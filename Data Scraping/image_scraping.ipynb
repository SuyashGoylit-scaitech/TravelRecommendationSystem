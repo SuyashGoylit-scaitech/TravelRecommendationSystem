{
 "cells": [
  {
   "cell_type": "code",
   "execution_count": 1,
   "metadata": {},
   "outputs": [],
   "source": [
    "from bs4 import BeautifulSoup\n",
    "\n",
    "import requests\n",
    "import urllib.request\n",
    "import shutil"
   ]
  },
  {
   "cell_type": "markdown",
   "metadata": {},
   "source": [
    "# List of Destinations"
   ]
  },
  {
   "cell_type": "code",
   "execution_count": 2,
   "metadata": {},
   "outputs": [
    {
     "name": "stdout",
     "output_type": "stream",
     "text": [
      "<Response [200]>\n"
     ]
    }
   ],
   "source": [
    "url = \"https://www.holidify.com/country/india/places-to-visit.html\"\n",
    "link = requests.get(url)\n",
    "print(link)\n",
    "\n",
    "html = link.text\n",
    "soup = BeautifulSoup(html, \"html.parser\")"
   ]
  },
  {
   "cell_type": "code",
   "execution_count": 3,
   "metadata": {},
   "outputs": [
    {
     "name": "stdout",
     "output_type": "stream",
     "text": [
      "42\n"
     ]
    }
   ],
   "source": [
    "containers = soup.findAll(\"div\", {\"class\" : \"col-12 col-md-6 pr-md-3\"})\n",
    "print(len(containers))"
   ]
  },
  {
   "cell_type": "code",
   "execution_count": 4,
   "metadata": {},
   "outputs": [],
   "source": [
    "container = containers[0]\n",
    "destinations = []\n",
    "\n",
    "for container in containers:\n",
    "    name = container.findAll(\"h3\", {\"class\":\"card-heading\"})\n",
    "    name = name[0].text[4:]\n",
    "    destinations.append(name)\n",
    "    \n",
    "#destinations"
   ]
  },
  {
   "cell_type": "code",
   "execution_count": 5,
   "metadata": {},
   "outputs": [
    {
     "name": "stdout",
     "output_type": "stream",
     "text": [
      "<Response [200]>\n"
     ]
    }
   ],
   "source": [
    "url = \"https://www.holidify.com/country/india/places-to-visit.html?pageNum=1\"\n",
    "link = requests.get(url)\n",
    "print(link)\n",
    "\n",
    "html = link.text\n",
    "soup = BeautifulSoup(html, \"html.parser\")"
   ]
  },
  {
   "cell_type": "code",
   "execution_count": 6,
   "metadata": {},
   "outputs": [
    {
     "name": "stdout",
     "output_type": "stream",
     "text": [
      "42\n"
     ]
    }
   ],
   "source": [
    "containers = soup.findAll(\"div\", {\"class\" : \"col-12 col-md-6 pr-md-3\"})\n",
    "print(len(containers))"
   ]
  },
  {
   "cell_type": "code",
   "execution_count": 7,
   "metadata": {},
   "outputs": [],
   "source": [
    "container = containers[0]\n",
    "\n",
    "for container in containers:\n",
    "    name = container.findAll(\"h3\", {\"class\":\"card-heading\"})\n",
    "    name = name[0].text[4:]\n",
    "    destinations.append(name)\n",
    "    \n",
    "#destinations"
   ]
  },
  {
   "cell_type": "code",
   "execution_count": 8,
   "metadata": {},
   "outputs": [
    {
     "name": "stdout",
     "output_type": "stream",
     "text": [
      "<Response [200]>\n"
     ]
    }
   ],
   "source": [
    "url = \"https://www.holidify.com/country/india/places-to-visit.html?pageNum=2\"\n",
    "link = requests.get(url)\n",
    "print(link)\n",
    "\n",
    "html = link.text\n",
    "soup = BeautifulSoup(html, \"html.parser\")"
   ]
  },
  {
   "cell_type": "code",
   "execution_count": 9,
   "metadata": {},
   "outputs": [
    {
     "name": "stdout",
     "output_type": "stream",
     "text": [
      "16\n"
     ]
    }
   ],
   "source": [
    "containers = soup.findAll(\"div\", {\"class\" : \"col-12 col-md-6 pr-md-3\"})\n",
    "print(len(containers))"
   ]
  },
  {
   "cell_type": "code",
   "execution_count": 10,
   "metadata": {},
   "outputs": [
    {
     "data": {
      "text/plain": [
       "['Goa ',\n",
       " 'Manali ',\n",
       " 'Andaman & Nicobar Islands ',\n",
       " 'Coorg ',\n",
       " 'Agra ',\n",
       " 'Udaipur ',\n",
       " 'Jaipur ',\n",
       " 'Leh Ladakh ',\n",
       " 'Delhi ',\n",
       " ' Varanasi ',\n",
       " ' Jaisalmer ',\n",
       " ' Mumbai ',\n",
       " ' Rishikesh ',\n",
       " ' Alleppey ',\n",
       " ' Munnar ',\n",
       " ' Bangalore ',\n",
       " ' Varkala ',\n",
       " ' Jodhpur ',\n",
       " ' Shimla ',\n",
       " ' Gangtok ',\n",
       " ' Srinagar ',\n",
       " ' Darjeeling ',\n",
       " ' Kolkata ',\n",
       " ' Amritsar ',\n",
       " ' Nainital ',\n",
       " ' Ooty ',\n",
       " ' Hyderabad ',\n",
       " ' Mussoorie ',\n",
       " ' Pondicherry ',\n",
       " ' Khajuraho ',\n",
       " ' Chennai ',\n",
       " ' Vaishno Devi ',\n",
       " ' Dalhousie ',\n",
       " ' Ajanta and Ellora Caves ',\n",
       " ' Haridwar ',\n",
       " ' Kanyakumari ',\n",
       " ' Mcleodganj ',\n",
       " ' Pune ',\n",
       " ' Kodaikanal ',\n",
       " ' Kochi ',\n",
       " ' Ahmedabad ',\n",
       " ' Kanha National Park ',\n",
       " ' Mysore ',\n",
       " ' Chandigarh ',\n",
       " ' Visakhapatnam ',\n",
       " ' Lonavala ',\n",
       " ' Wayanad ',\n",
       " ' Mount Abu ',\n",
       " ' Hampi ',\n",
       " ' Gulmarg ',\n",
       " ' Almora ',\n",
       " ' Shirdi ',\n",
       " ' Auli ',\n",
       " ' Madurai ',\n",
       " ' Amarnath ',\n",
       " ' Bodh Gaya ',\n",
       " ' Ujjain ',\n",
       " ' Pachmarhi ',\n",
       " ' Mahabaleshwar ',\n",
       " ' Nashik ',\n",
       " ' Tirupati ',\n",
       " ' Gwalior ',\n",
       " ' Mathura ',\n",
       " ' Jog Falls ',\n",
       " ' Alibag ',\n",
       " ' Rameshwaram ',\n",
       " ' Vrindavan ',\n",
       " ' Coimbatore ',\n",
       " ' Lucknow ',\n",
       " ' Digha ',\n",
       " ' Dharamshala ',\n",
       " ' Kovalam ',\n",
       " ' Kaziranga National Park ',\n",
       " ' Madikeri ',\n",
       " ' Matheran ',\n",
       " ' Ranthambore ',\n",
       " ' Jim Corbett National Park ',\n",
       " ' Kasol ',\n",
       " ' Agartala ',\n",
       " ' Khandala ',\n",
       " ' Kalimpong ',\n",
       " ' Thanjavur ',\n",
       " ' Bhubaneswar ',\n",
       " ' Ajmer ',\n",
       " ' Aurangabad ',\n",
       " ' Jammu ',\n",
       " ' Dehradun ',\n",
       " ' Puri ',\n",
       " ' Cherrapunji ',\n",
       " ' Bikaner ',\n",
       " ' Shimoga (Shivamogga) ',\n",
       " ' Hogenakkal ',\n",
       " ' Gir National Park ',\n",
       " ' Kasauli ',\n",
       " ' Pushkar ',\n",
       " ' Chittorgarh ',\n",
       " ' Nahan ',\n",
       " ' Lavasa ',\n",
       " ' Poovar ',\n",
       " '. Honnemaradu ']"
      ]
     },
     "execution_count": 10,
     "metadata": {},
     "output_type": "execute_result"
    }
   ],
   "source": [
    "container = containers[0]\n",
    "\n",
    "for container in containers:\n",
    "    name = container.findAll(\"h3\", {\"class\":\"card-heading\"})\n",
    "    name = name[0].text[4:]\n",
    "    destinations.append(name)\n",
    "    \n",
    "destinations"
   ]
  },
  {
   "cell_type": "code",
   "execution_count": 11,
   "metadata": {},
   "outputs": [
    {
     "data": {
      "text/plain": [
       "['goa',\n",
       " 'manali',\n",
       " 'andaman-nicobar-islands',\n",
       " 'coorg',\n",
       " 'agra',\n",
       " 'udaipur',\n",
       " 'jaipur',\n",
       " 'ladakh',\n",
       " 'varanasi',\n",
       " 'jaisalmer',\n",
       " 'mumbai',\n",
       " 'rishikesh',\n",
       " 'alleppey',\n",
       " 'munnar',\n",
       " 'bangalore',\n",
       " 'varkala',\n",
       " 'jodhpur',\n",
       " 'shimla',\n",
       " 'gangtok',\n",
       " 'srinagar',\n",
       " 'darjeeling',\n",
       " 'kolkata',\n",
       " 'amritsar',\n",
       " 'nainital',\n",
       " 'ooty',\n",
       " 'hyderabad',\n",
       " 'mussoorie',\n",
       " 'pondicherry',\n",
       " 'khajuraho',\n",
       " 'chennai',\n",
       " 'vaishno-devi',\n",
       " 'dalhousie',\n",
       " 'ajanta-and-ellora-caves',\n",
       " 'haridwar',\n",
       " 'kanyakumari',\n",
       " 'mcleodganj',\n",
       " 'pune',\n",
       " 'kodaikanal',\n",
       " 'kochi',\n",
       " 'ahmedabad',\n",
       " 'kanha-national-park',\n",
       " 'mysore',\n",
       " 'chandigarh',\n",
       " 'visakhapatnam',\n",
       " 'lonavala',\n",
       " 'wayanad',\n",
       " 'mount-abu',\n",
       " 'hampi',\n",
       " 'gulmarg',\n",
       " 'almora',\n",
       " 'shirdi',\n",
       " 'auli',\n",
       " 'madurai',\n",
       " 'amarnath',\n",
       " 'bodh-gaya',\n",
       " 'ujjain',\n",
       " 'pachmarhi',\n",
       " 'mahabaleshwar',\n",
       " 'nasik',\n",
       " 'tirupati',\n",
       " 'gwalior',\n",
       " 'mathura',\n",
       " 'jog-falls',\n",
       " 'alibag',\n",
       " 'rameswaram',\n",
       " 'vrindavan',\n",
       " 'coimbatore',\n",
       " 'lucknow',\n",
       " 'digha',\n",
       " 'dharamsala',\n",
       " 'kovalam',\n",
       " 'kaziranga-national-park',\n",
       " 'madikeri',\n",
       " 'matheran',\n",
       " 'ranthambore',\n",
       " 'corbett-national-park',\n",
       " 'kasol',\n",
       " 'agartala',\n",
       " 'khandala',\n",
       " 'kalimpong',\n",
       " 'thanjevur',\n",
       " 'bhubaneswar',\n",
       " 'ajmer',\n",
       " 'aurangabad',\n",
       " 'jammu',\n",
       " 'dehradun',\n",
       " 'puri',\n",
       " 'cherrapunjee',\n",
       " 'bikaner',\n",
       " 'shimoga',\n",
       " 'hogenakkal',\n",
       " 'gir-national-park',\n",
       " 'kasauli',\n",
       " 'pushkar',\n",
       " 'chittorgarh',\n",
       " 'nahan',\n",
       " 'lavasa',\n",
       " 'poovar',\n",
       " 'honnemaradu']"
      ]
     },
     "execution_count": 11,
     "metadata": {},
     "output_type": "execute_result"
    }
   ],
   "source": [
    "destinations = [x.strip(' ') for x in destinations]\n",
    "destinations[99] = 'Honnemaradu'\n",
    "\n",
    "# Airport\n",
    "destinations.remove('Delhi')\n",
    "\n",
    "# Preserving for use in hotels and places to visit\n",
    "destinations_raw = destinations.copy()\n",
    "\n",
    "destinations = [x.lower() for x in destinations]\n",
    "\n",
    "# Name ambiguity\n",
    "destinations[7] = 'ladakh'\n",
    "destinations[89] = 'shimoga'\n",
    "destinations[98] = 'honnemaradu'\n",
    "destinations[2] = 'andaman nicobar islands'\n",
    "destinations[87] = 'cherrapunjee'\n",
    "destinations[80] = 'thanjevur'\n",
    "destinations[75] = 'corbett national park'\n",
    "destinations[69] = 'dharamsala'\n",
    "destinations[64] = 'rameswaram'\n",
    "destinations[58] = 'nasik'\n",
    "\n",
    "destinations = [x.replace(' ', '-') for x in destinations]\n",
    "destinations"
   ]
  },
  {
   "cell_type": "code",
   "execution_count": 12,
   "metadata": {},
   "outputs": [
    {
     "data": {
      "text/plain": [
       "['GOA',\n",
       " 'MANALI',\n",
       " 'ANDAMAN-NICOBAR-ISLANDS',\n",
       " 'COORG',\n",
       " 'AGRA',\n",
       " 'UDAIPUR',\n",
       " 'JAIPUR',\n",
       " 'LADAKH',\n",
       " 'VARANASI',\n",
       " 'JAISALMER',\n",
       " 'MUMBAI',\n",
       " 'RISHIKESH',\n",
       " 'ALLEPPEY',\n",
       " 'MUNNAR',\n",
       " 'BANGALORE',\n",
       " 'VARKALA',\n",
       " 'JODHPUR',\n",
       " 'SHIMLA',\n",
       " 'GANGTOK',\n",
       " 'SRINAGAR',\n",
       " 'DARJEELING',\n",
       " 'KOLKATA',\n",
       " 'AMRITSAR',\n",
       " 'NAINITAL',\n",
       " 'OOTY',\n",
       " 'HYDERABAD',\n",
       " 'MUSSOORIE',\n",
       " 'PONDICHERRY',\n",
       " 'KHAJURAHO',\n",
       " 'CHENNAI',\n",
       " 'VAISHNO-DEVI',\n",
       " 'DALHOUSIE',\n",
       " 'AJANTA-AND-ELLORA-CAVES',\n",
       " 'HARIDWAR',\n",
       " 'KANYAKUMARI',\n",
       " 'MCLEODGANJ',\n",
       " 'PUNE',\n",
       " 'KODAIKANAL',\n",
       " 'KOCHI',\n",
       " 'AHMEDABAD',\n",
       " 'KANHA-NATIONAL-PARK',\n",
       " 'MYSORE',\n",
       " 'CHANDIGARH',\n",
       " 'VISAKHAPATNAM',\n",
       " 'LONAVALA',\n",
       " 'WAYANAD',\n",
       " 'MOUNT-ABU',\n",
       " 'HAMPI',\n",
       " 'GULMARG',\n",
       " 'ALMORA',\n",
       " 'SHIRDI',\n",
       " 'AULI',\n",
       " 'MADURAI',\n",
       " 'AMARNATH',\n",
       " 'BODH-GAYA',\n",
       " 'UJJAIN',\n",
       " 'PACHMARHI',\n",
       " 'MAHABALESHWAR',\n",
       " 'NASIK',\n",
       " 'TIRUPATI',\n",
       " 'GWALIOR',\n",
       " 'MATHURA',\n",
       " 'JOG-FALLS',\n",
       " 'ALIBAG',\n",
       " 'RAMESWARAM',\n",
       " 'VRINDAVAN',\n",
       " 'COIMBATORE',\n",
       " 'LUCKNOW',\n",
       " 'DIGHA',\n",
       " 'DHARAMSALA',\n",
       " 'KOVALAM',\n",
       " 'KAZIRANGA-NATIONAL-PARK',\n",
       " 'MADIKERI',\n",
       " 'MATHERAN',\n",
       " 'RANTHAMBORE',\n",
       " 'CORBETT-NATIONAL-PARK',\n",
       " 'KASOL',\n",
       " 'AGARTALA',\n",
       " 'KHANDALA',\n",
       " 'KALIMPONG',\n",
       " 'THANJEVUR',\n",
       " 'BHUBANESWAR',\n",
       " 'AJMER',\n",
       " 'AURANGABAD',\n",
       " 'JAMMU',\n",
       " 'DEHRADUN',\n",
       " 'PURI',\n",
       " 'CHERRAPUNJEE',\n",
       " 'BIKANER',\n",
       " 'SHIMOGA',\n",
       " 'HOGENAKKAL',\n",
       " 'GIR-NATIONAL-PARK',\n",
       " 'KASAULI',\n",
       " 'PUSHKAR',\n",
       " 'CHITTORGARH',\n",
       " 'NAHAN',\n",
       " 'LAVASA',\n",
       " 'POOVAR',\n",
       " 'HONNEMARADU']"
      ]
     },
     "execution_count": 12,
     "metadata": {},
     "output_type": "execute_result"
    }
   ],
   "source": [
    "destinations_capital = [destination.upper() for destination in destinations]\n",
    "destinations_capital"
   ]
  },
  {
   "cell_type": "markdown",
   "metadata": {},
   "source": [
    "# Destinations"
   ]
  },
  {
   "cell_type": "code",
   "execution_count": null,
   "metadata": {},
   "outputs": [],
   "source": [
    "# Testing the authenticity of the urls (Change this code to markdown, once executed, to save time)\n",
    "\n",
    "for i in destinations:\n",
    "    url = \"https://www.holidify.com/images/bgImages/\"+i\n",
    "    P_link = requests.get(url)\n",
    "    print(link)\n",
    "\n",
    "    html = link.text\n",
    "    soup = BeautifulSoup(html, \"html.parser\")"
   ]
  },
  {
   "cell_type": "code",
   "execution_count": 16,
   "metadata": {},
   "outputs": [],
   "source": [
    "def download_image(image):\n",
    "    response = requests.get(image, stream=True)\n",
    "    realname = str(destination_index) + '. ' + j\n",
    "    \n",
    "    file = open(r\"C:\\Users\\goyli\\Desktop\\Destinations{}.jpg\".format(realname), 'wb')\n",
    "    \n",
    "    response.raw.decode_content = True\n",
    "    shutil.copyfileobj(response.raw, file)\n",
    "    del response"
   ]
  },
  {
   "cell_type": "code",
   "execution_count": 17,
   "metadata": {},
   "outputs": [],
   "source": [
    "destination_index = 0\n",
    "\n",
    "for i, j in zip(destinations_capital, destinations_raw):\n",
    "    download_image('https://www.holidify.com/images/bgImages/' + i)\n",
    "    destination_index += 1"
   ]
  },
  {
   "cell_type": "markdown",
   "metadata": {},
   "source": [
    "# Places to visit "
   ]
  },
  {
   "cell_type": "code",
   "execution_count": 55,
   "metadata": {},
   "outputs": [],
   "source": [
    "place_link = {}\n",
    "\n",
    "for i, j in zip(destinations, destinations_raw):\n",
    "    url = \"https://www.holidify.com/places/\" + i + \"/sightseeing-and-things-to-do.html\"\n",
    "    link = requests.get(url)\n",
    "    html = link.text\n",
    "    soup = BeautifulSoup(html, \"html.parser\")\n",
    "    \n",
    "    containers = soup.findAll(\"div\", {\"class\": \"col-12 col-md-6 pr-md-3\"})\n",
    "    \n",
    "    if containers:\n",
    "        count = 6\n",
    "        if len(containers) < 6:\n",
    "            count = len(containers)\n",
    "    \n",
    "        k = 0\n",
    "    \n",
    "        while k < count:\n",
    "            container = containers[k]\n",
    "        \n",
    "            image_link = container.findAll('a')[0].get('href')\n",
    "        \n",
    "            place = container.findAll('h3', class_= 'card-heading')[0].get_text().strip()\n",
    "            place = place[3:].strip()\n",
    "            place = place.replace(\"/\", \" and \")\n",
    "            \n",
    "            place_link[j + ' (' + place + ')'] = image_link\n",
    "                        \n",
    "            k += 1                    "
   ]
  },
  {
   "cell_type": "code",
   "execution_count": 56,
   "metadata": {},
   "outputs": [],
   "source": [
    "def download_image_places(image):\n",
    "    response = requests.get(image, stream=True)\n",
    "    realname = key\n",
    "    \n",
    "    file = open(r\"C:\\Users\\goyli\\Desktop\\Places to visit (without index)\\{}.jpg\".format(realname), 'wb')\n",
    "    \n",
    "    response.raw.decode_content = True\n",
    "    shutil.copyfileobj(response.raw, file)\n",
    "    del response    "
   ]
  },
  {
   "cell_type": "code",
   "execution_count": 57,
   "metadata": {},
   "outputs": [],
   "source": [
    "for key, value in place_link.items():\n",
    "    url = value\n",
    "    link = requests.get(url)\n",
    "    html = link.text\n",
    "    soup = BeautifulSoup(html, \"html.parser\")\n",
    "    \n",
    "    if soup.findAll('div', class_ = 'atf-cover-image'):\n",
    "        image_link = soup.findAll('div', class_ = 'atf-cover-image')[0].get('style')\n",
    "        image_link = image_link[22:]\n",
    "        image_link = image_link[:-3]\n",
    "        image_link = image_link.replace(\"'\", \"\")\n",
    "    \n",
    "    download_image_places(image_link)    "
   ]
  }
 ],
 "metadata": {
  "kernelspec": {
   "display_name": "Python 3",
   "language": "python",
   "name": "python3"
  },
  "language_info": {
   "codemirror_mode": {
    "name": "ipython",
    "version": 3
   },
   "file_extension": ".py",
   "mimetype": "text/x-python",
   "name": "python",
   "nbconvert_exporter": "python",
   "pygments_lexer": "ipython3",
   "version": "3.8.3"
  }
 },
 "nbformat": 4,
 "nbformat_minor": 4
}
